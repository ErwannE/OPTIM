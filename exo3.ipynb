{
 "cells": [
  {
   "cell_type": "markdown",
   "metadata": {},
   "source": [
    "### Dice trading"
   ]
  },
  {
   "cell_type": "markdown",
   "metadata": {},
   "source": [
    "##### 4.a)\n",
    "\n",
    "$S_t = \\{p_t, d_t\\}$, avec $p_t$ le nombre de points et $d_t$ le nombre de dés\n",
    "\n",
    "$a_t = \\{0, 1\\}$, soit acheter un nouveau dé, soit ne rien faire\n",
    "\n",
    "$p_t \\geq 0$\n",
    "\n",
    "$d_t \\leq 3$\n",
    "\n",
    "$d_{t+1} = d_t + a_t$\n",
    "\n",
    "$p_{t+1} = p_t - 5*a_t + \\max_{i \\in \\{1, d_t\\}} (u_i (1, 2, 3, 4, 5, 6))$, le nombre de points est déterminé par le score max de tous les dés"
   ]
  },
  {
   "cell_type": "markdown",
   "metadata": {},
   "source": [
    "##### 4.b) Implement an heuristic"
   ]
  },
  {
   "cell_type": "code",
   "execution_count": 1,
   "metadata": {},
   "outputs": [
    {
     "data": {
      "text/plain": [
       "never_buy_heuristic (generic function with 1 method)"
      ]
     },
     "metadata": {},
     "output_type": "display_data"
    }
   ],
   "source": [
    "function never_buy_heuristic(s,t) # Always returns \"Don't Buy\" (never buy dice) \n",
    "    return \"Don't Buy\"\n",
    "end"
   ]
  },
  {
   "cell_type": "markdown",
   "metadata": {},
   "source": [
    "##### 4.c) Write a simulator giving $V_{\\pi}$ in a confidence interval of 95%"
   ]
  },
  {
   "cell_type": "code",
   "execution_count": 2,
   "metadata": {},
   "outputs": [
    {
     "name": "stderr",
     "output_type": "stream",
     "text": [
      "\u001b[32m\u001b[1m   Resolving\u001b[22m\u001b[39m package versions...\n",
      "\u001b[32m\u001b[1m  No Changes\u001b[22m\u001b[39m to `C:\\Users\\Ponts\\.julia\\environments\\v1.9\\Project.toml`\n",
      "\u001b[32m\u001b[1m  No Changes\u001b[22m\u001b[39m to `C:\\Users\\Ponts\\.julia\\environments\\v1.9\\Manifest.toml`\n"
     ]
    }
   ],
   "source": [
    "using Pkg\n",
    "Pkg.add(\"Distributions\")"
   ]
  },
  {
   "cell_type": "code",
   "execution_count": 15,
   "metadata": {},
   "outputs": [
    {
     "name": "stdout",
     "output_type": "stream",
     "text": [
      "test\n"
     ]
    },
    {
     "data": {
      "text/plain": [
       "(36, Any[(\"Don't Buy\", 4, 4), (\"Don't Buy\", 2, 6), (\"Don't Buy\", 2, 8), (\"Don't Buy\", 5, 13), (\"Don't Buy\", 2, 15), (\"Don't Buy\", 4, 19), (\"Don't Buy\", 4, 23), (\"Don't Buy\", 2, 25), (\"Don't Buy\", 5, 30), (\"Don't Buy\", 6, 36)])"
      ]
     },
     "metadata": {},
     "output_type": "display_data"
    }
   ],
   "source": [
    "using Distributions\n",
    "using Random\n",
    "\n",
    "function simulator_simple_game(heuristic, history=false, T=10)\n",
    "    nb_dice = 1\n",
    "    total_points = 0\n",
    "    println(\"test\")\n",
    "    if history\n",
    "        history_list = []\n",
    "    end\n",
    "\n",
    "    for turn in 1:T\n",
    "        action = heuristic((total_points, nb_dice), turn)\n",
    "        @assert action != \"Buy\" || total_points >= 6 \"RuleError You don't have enough points to buy a dice\"\n",
    "        if action == \"Buy\" && total_points >= 6 # Note that the rules prevent the player from buying a dice if they have less than 6 points, even though the dice cost is 5 points\n",
    "            nb_dice += 1\n",
    "            total_points -= 5\n",
    "        end\n",
    "        dice_roll = maximum(rand(1:6, nb_dice))\n",
    "        total_points += dice_roll\n",
    "\n",
    "        if history\n",
    "            push!(history_list, (action, dice_roll, total_points))\n",
    "        end\n",
    "    end\n",
    "    \n",
    "    if history\n",
    "        return total_points, history_list\n",
    "    end\n",
    "    return total_points\n",
    "end\n",
    "simulator_simple_game(never_buy_heuristic, true, 10)"
   ]
  },
  {
   "cell_type": "code",
   "execution_count": 16,
   "metadata": {},
   "outputs": [
    {
     "data": {
      "text/plain": [
       "(34.83, [33.74279544006129, 35.9172045599387])"
      ]
     },
     "metadata": {},
     "output_type": "display_data"
    }
   ],
   "source": [
    "function simulator_simple_game_V(heuristic, T=10, N= 100)\n",
    "    # This function returns the mean and the 95% confidence interval of the total points after T turns, averaged over N games\n",
    "    nb_dice = 1\n",
    "    total_points = 0\n",
    "    Liste = []\n",
    "    for j in 1:N\n",
    "        total_points = 0\n",
    "        for turn in 1:T\n",
    "            action = heuristic((total_points, nb_dice), turn)\n",
    "            @assert action != \"Buy\" || total_points >= 6 \"RuleError You don't have enough points to buy a dice\"\n",
    "            if action == \"Buy\" && total_points >= 6 # Note that the rules prevent the player from buying a dice if they have less than 6 points, even though the dice cost is 5 points\n",
    "                nb_dice += 1\n",
    "                total_points -= 5\n",
    "            end\n",
    "            dice_roll = maximum(rand(1:6, nb_dice))\n",
    "            total_points += dice_roll\n",
    "            \n",
    "        end\n",
    "        push!(Liste, total_points)\n",
    "    end\n",
    "    return mean(Liste), [mean(Liste) - 1.96*std(Liste)/sqrt(N), mean(Liste) + 1.96*std(Liste)/sqrt(N)]\n",
    "end\n",
    "simulator_simple_game_V(never_buy_heuristic, 10)"
   ]
  },
  {
   "cell_type": "code",
   "execution_count": 5,
   "metadata": {},
   "outputs": [
    {
     "ename": "ErrorException",
     "evalue": "syntax: whitespace not allowed after \":\" used for quoting",
     "output_type": "error",
     "traceback": [
      "syntax: whitespace not allowed after \":\" used for quoting\n",
      "\n",
      "Stacktrace:\n",
      " [1] top-level scope\n",
      "   @ c:\\Users\\Ponts\\Documents\\OPTIM\\exo3.ipynb:2"
     ]
    }
   ],
   "source": [
    "# function compute_expected_cost(heuristic, p=0.05):\n",
    "#     #p is the error level\n",
    "#     n=0 # Number of game simulated\n",
    "#     emp_mean=0\n",
    "#     emp_dev=0\n",
    "\n",
    "#     d = Normal()  # Crée une distribution normale standard\n",
    "#     p = 0.95  # Probabilité pour laquelle vous voulez trouver le quantile\n",
    "#     q = quantile(d, p)  # Calcule le quantile\n",
    "    \n",
    "#     while n<1 and \n",
    "#     end\n",
    "# end"
   ]
  },
  {
   "cell_type": "code",
   "execution_count": null,
   "metadata": {},
   "outputs": [],
   "source": []
  }
 ],
 "metadata": {
  "kernelspec": {
   "display_name": "Julia 1.9.4",
   "language": "julia",
   "name": "julia-1.9"
  },
  "language_info": {
   "file_extension": ".jl",
   "mimetype": "application/julia",
   "name": "julia",
   "version": "1.9.4"
  }
 },
 "nbformat": 4,
 "nbformat_minor": 2
}
