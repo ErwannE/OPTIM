{
 "cells": [
  {
   "cell_type": "markdown",
   "metadata": {},
   "source": [
    "### Dice trading"
   ]
  },
  {
   "cell_type": "markdown",
   "metadata": {},
   "source": [
    "##### 4.b) Implement an heuristic"
   ]
  },
  {
   "cell_type": "code",
   "execution_count": 11,
   "metadata": {},
   "outputs": [
    {
     "data": {
      "text/plain": [
       "never_buy_heuristic (generic function with 1 method)"
      ]
     },
     "metadata": {},
     "output_type": "display_data"
    }
   ],
   "source": [
    "function never_buy_heuristic(s,t) # Always returns \"Don't Buy\" (never buy dice) \n",
    "    return \"Don't Buy\"\n",
    "end"
   ]
  },
  {
   "cell_type": "markdown",
   "metadata": {},
   "source": [
    "##### 4.c) Write a simulator giving $V_{\\pi}$ in a confidence interval of 95%"
   ]
  },
  {
   "cell_type": "code",
   "execution_count": 12,
   "metadata": {},
   "outputs": [
    {
     "name": "stderr",
     "output_type": "stream",
     "text": [
      "\u001b[32m\u001b[1m   Resolving\u001b[22m\u001b[39m package versions...\n"
     ]
    },
    {
     "name": "stderr",
     "output_type": "stream",
     "text": [
      "\u001b[32m\u001b[1m  No Changes\u001b[22m\u001b[39m to `C:\\Users\\erwan\\.julia\\environments\\v1.8\\Project.toml`\n",
      "\u001b[32m\u001b[1m  No Changes\u001b[22m\u001b[39m to `C:\\Users\\erwan\\.julia\\environments\\v1.8\\Manifest.toml`"
     ]
    },
    {
     "name": "stderr",
     "output_type": "stream",
     "text": [
      "\n"
     ]
    }
   ],
   "source": [
    "using Pkg\n",
    "Pkg.add(\"Distributions\")"
   ]
  },
  {
   "cell_type": "code",
   "execution_count": 30,
   "metadata": {},
   "outputs": [
    {
     "name": "stdout",
     "output_type": "stream",
     "text": [
      "test\n"
     ]
    },
    {
     "data": {
      "text/plain": [
       "(32, Any[(\"Don't Buy\", 3, 3), (\"Don't Buy\", 2, 5), (\"Don't Buy\", 6, 11), (\"Don't Buy\", 2, 13), (\"Don't Buy\", 3, 16), (\"Don't Buy\", 5, 21), (\"Don't Buy\", 5, 26), (\"Don't Buy\", 2, 28), (\"Don't Buy\", 2, 30), (\"Don't Buy\", 2, 32)])"
      ]
     },
     "metadata": {},
     "output_type": "display_data"
    }
   ],
   "source": [
    "using Distributions\n",
    "using Random\n",
    "\n",
    "function simulator_simple_game(heuristic, history=false, T=10)\n",
    "    nb_dice = 1\n",
    "    total_points = 0\n",
    "    println(\"test\")\n",
    "    if history\n",
    "        history_list = []\n",
    "    end\n",
    "\n",
    "    for turn in 1:T\n",
    "        action = heuristic((total_points, nb_dice), turn)\n",
    "        @assert action != \"Buy\" || total_points >= 6 \"RuleError You don't have enough points to buy a dice\"\n",
    "        if action == \"Buy\" && total_points >= 6 # Note that the rules prevent the player from buying a dice if they have less than 6 points, even though the dice cost is 5 points\n",
    "            nb_dice += 1\n",
    "            total_points -= 5\n",
    "        end\n",
    "        dice_roll = maximum(rand(1:6, nb_dice))\n",
    "        total_points += dice_roll\n",
    "\n",
    "        if history\n",
    "            push!(history_list, (action, dice_roll, total_points))\n",
    "        end\n",
    "    end\n",
    "    \n",
    "    if history\n",
    "        return total_points, history_list\n",
    "    end\n",
    "    return total_points\n",
    "end\n",
    "simulator_simple_game(never_buy_heuristic, true, 10)"
   ]
  },
  {
   "cell_type": "code",
   "execution_count": null,
   "metadata": {},
   "outputs": [],
   "source": [
    "function compute_expected_cost(heuristic, p=0.05): #p is the error level\n",
    "    n=0 # Number of game simulated\n",
    "    emp_mean=0\n",
    "    emp_dev=0\n",
    "\n",
    "    d = Normal()  # Crée une distribution normale standard\n",
    "    p = 0.95  # Probabilité pour laquelle vous voulez trouver le quantile\n",
    "    q = quantile(d, p)  # Calcule le quantile\n",
    "    \n",
    "    while n<1 and \n",
    "    end\n",
    "end"
   ]
  }
 ],
 "metadata": {
  "kernelspec": {
   "display_name": "Julia 1.8.5",
   "language": "julia",
   "name": "julia-1.8"
  },
  "language_info": {
   "file_extension": ".jl",
   "mimetype": "application/julia",
   "name": "julia",
   "version": "1.8.5"
  }
 },
 "nbformat": 4,
 "nbformat_minor": 2
}
