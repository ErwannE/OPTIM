{
 "cells": [
  {
   "cell_type": "markdown",
   "metadata": {},
   "source": [
    "### Simulation du problème\n",
    "STATES : 1 new, 2 good shape, 3 old, 4 brocken \\\n",
    "ACTIONS : 1 do nothing, 2 maintain, 3 repair, 4 replace"
   ]
  },
  {
   "cell_type": "code",
   "execution_count": 1,
   "metadata": {},
   "outputs": [
    {
     "name": "stdout",
     "output_type": "stream",
     "text": [
      "(1, -20)\n"
     ]
    }
   ],
   "source": [
    "\n",
    "function simulation(s,a) #Take the action state pair and return the next state and the reward \n",
    "    random_number = rand()\n",
    "    if s == 1 #If the state is new\n",
    "        if a == 1 #If the action is do nothing (only action available for new state)\n",
    "            return 1, -30\n",
    "        else\n",
    "            AssertionError(\"The action is not valid for the state\")\n",
    "        end\n",
    "    \n",
    "    elseif s == 2 #If the state is in good shape\n",
    "\n",
    "        if a == 1 #If the action is do nothing\n",
    "            if random_number < 0.3\n",
    "                return 1, -20\n",
    "            else\n",
    "                return 2, -20\n",
    "            end\n",
    "\n",
    "        elseif a == 2 #If the action is maintain\n",
    "            if random_number < 0.8\n",
    "                return 1, -10\n",
    "            else\n",
    "                return 2, -10\n",
    "            end\n",
    "\n",
    "        elseif a == 3 #If the action is repair\n",
    "            return 1, -5\n",
    "\n",
    "        elseif a == 4 #If the action is replace\n",
    "            return 0, -50\n",
    "\n",
    "        else\n",
    "            AssertionError(\"The action is not valid for the state\")\n",
    "        end\n",
    "\n",
    "    elseif s == 3 #If the state is old\n",
    "\n",
    "        if a == 1 #If the action is do nothing\n",
    "            if random_number < 0.5\n",
    "                return 2, -10\n",
    "            else\n",
    "                return 3, -10\n",
    "            end\n",
    "        \n",
    "        elseif a == 2 #If the action is maintain\n",
    "            if random_number < 0.9\n",
    "                return 2, 0\n",
    "            else\n",
    "                return 3, 0\n",
    "            end\n",
    "\n",
    "        elseif a == 3 #If the action is repair\n",
    "            return 1, 20\n",
    "\n",
    "        elseif a == 4 #If the action is replace\n",
    "            return 0, 70\n",
    "\n",
    "        else\n",
    "            AssertionError(\"The action is not valid for the state\")\n",
    "        end\n",
    "\n",
    "    elseif s == 4 #If the state is broken\n",
    "\n",
    "        if a == 1 #If the action is do nothing\n",
    "            return 3, 0\n",
    "\n",
    "        elseif a == 3 #If the action is ezpair\n",
    "            return 1, 50\n",
    "\n",
    "        elseif a == 4 #If the action is replace\n",
    "            return 0, 70\n",
    "\n",
    "        else\n",
    "            AssertionError(\"The action is not valid for the state\")\n",
    "        end\n",
    "    \n",
    "    else\n",
    "        AssertionError(\"The state is not valid\")\n",
    "    end\n",
    "end\n",
    "\n",
    "println(simulation(2, 1))"
   ]
  },
  {
   "cell_type": "markdown",
   "metadata": {},
   "source": [
    "### Dictionnaire associé au problème"
   ]
  },
  {
   "cell_type": "code",
   "execution_count": 2,
   "metadata": {},
   "outputs": [
    {
     "data": {
      "text/plain": [
       "Dict{String, Any} with 4 entries:\n",
       "  \"4\" => Dict{String, Any}(\"4\"=>Dict{String, Any}(\"1\"=>Dict{String, Any}(\"c\"=>7…\n",
       "  \"1\" => Dict{String, Any}(\"1\"=>Dict{String, Any}(\"2\"=>Dict{String, Any}(\"c\"=>-…\n",
       "  \"2\" => Dict{String, Any}(\"4\"=>Dict{String, Any}(\"1\"=>Dict{String, Any}(\"c\"=>5…\n",
       "  \"3\" => Dict{String, Any}(\"4\"=>Dict{String, Any}(\"1\"=>Dict{String, Any}(\"c\"=>6…"
      ]
     },
     "metadata": {},
     "output_type": "display_data"
    }
   ],
   "source": [
    "using JSON\n",
    "dict_state_action = JSON.parsefile(\"state_action.json\")"
   ]
  },
  {
   "cell_type": "code",
   "execution_count": 3,
   "metadata": {},
   "outputs": [
    {
     "name": "stdout",
     "output_type": "stream",
     "text": [
      "Dict{String, Any}(\"2\" => Dict{String, Any}(\"c\" => -30, \"p\" => 1))"
     ]
    }
   ],
   "source": [
    "print(dict_state_action[\"1\"][\"1\"])"
   ]
  },
  {
   "cell_type": "markdown",
   "metadata": {},
   "source": [
    "On définit V de la façon suivante :\n",
    "\n",
    "$$\n",
    "V_{t}(x)=E[\\sum_{s=t}^{T} R(X_t,t) |  X_{t}=x]\n",
    "$$\n",
    "\n",
    "On a donc :\n",
    "$$\n",
    "\\forall x \\in States,   V_{T+1}(x)=0\n",
    "$$"
   ]
  },
  {
   "cell_type": "code",
   "execution_count": 4,
   "metadata": {},
   "outputs": [
    {
     "name": "stdout",
     "output_type": "stream",
     "text": [
      "Int64\n"
     ]
    }
   ],
   "source": [
    "s = \"123\"\n",
    "x = parse(Int, s)\n",
    "println(typeof(x))"
   ]
  },
  {
   "cell_type": "markdown",
   "metadata": {},
   "source": [
    "On cherche à connaitre $ V_{1}(1)$ et sa politique optimale associée."
   ]
  },
  {
   "cell_type": "code",
   "execution_count": 5,
   "metadata": {},
   "outputs": [
    {
     "data": {
      "text/plain": [
       "dynamic_programming (generic function with 1 method)"
      ]
     },
     "metadata": {},
     "output_type": "display_data"
    }
   ],
   "source": [
    "function dynamic_programming(dict_state_action, T)\n",
    "    V = fill(Inf, (4, T+1))\n",
    "    π = zeros(Int, (4, T))\n",
    "    for x ∈ 1:4\n",
    "        V[x, T+1] = 0\n",
    "    end\n",
    "\n",
    "    for t ∈ T:-1:1\n",
    "        for x ∈ 1:4\n",
    "            for (action, dict_action) ∈ dict_state_action[string(x)]\n",
    "                sum = 0\n",
    "                for (next_state, values) ∈ dict_action\n",
    "                    val_next_state = parse(Int, next_state)\n",
    "                    sum += values[\"p\"]*(values[\"c\"] + V[val_next_state, t+1])\n",
    "                end\n",
    "                if sum < V[x, t]\n",
    "                    V[x, t] = sum\n",
    "                    π[x, t] = parse(Int,action)\n",
    "                end\n",
    "            end\n",
    "\n",
    "        end\n",
    "    end\n",
    "    return V, π\n",
    "end"
   ]
  },
  {
   "cell_type": "code",
   "execution_count": 6,
   "metadata": {},
   "outputs": [
    {
     "name": "stdout",
     "output_type": "stream",
     "text": [
      "Valeur à l'état 1 : [-110.82000000000001, -105.82000000000001, -100.82000000000001, -95.82000000000001, -90.82000000000001, -85.82000000000001, -80.82, -75.82, -70.4, -63.0, -50.0, -30.0, 0.0]\n",
      "Action à l'état 1 : [1, 1, 1, 1, 1, 1, 1, 1, 1, 1, 1, 1]\n",
      "Valeur à l'état 2 : [-85.82000000000001, -80.82000000000001, -75.82000000000001, -70.82000000000001, -65.82000000000001, -60.82000000000001, -55.82000000000001, -50.82, -45.82, -40.4, -33.0, -20.0, 0.0]\n",
      "Action à l'état 2 : [2, 2, 2, 2, 2, 2, 2, 3, 2, 1, 1, 1]\n",
      "Valeur à l'état 3 : [-60.82000000000001, -55.82000000000001, -50.82000000000001, -45.82000000000001, -40.82000000000001, -35.82000000000001, -30.82, -25.82, -20.4, -17.5, -15.0, -10.0, 0.0]\n",
      "Action à l'état 3 : [3, 3, 3, 3, 3, 3, 3, 3, 3, 1, 1, 1]\n",
      "Valeur à l'état 4 : [-35.82000000000001, -30.820000000000007, -25.820000000000007, -20.820000000000007, -15.820000000000007, -10.819999999999993, -5.819999999999993, -0.4000000000000057, 0.0, 0.0, 0.0, 0.0, 0.0]\n",
      "Action à l'état 4 : [4, 4, 4, 4, 4, 4, 4, 4, 1, 1, 1, 1]\n",
      "[1 1 1 1 1 1 1 1 1 1 1 1; 2 2 2 2 2 2 2 3 2 1 1 1; 3 3 3 3 3 3 3 3 3 1 1 1; 4 4 4 4 4 4 4 4 1 1 1 1]\n",
      "-110.82000000000001"
     ]
    }
   ],
   "source": [
    "V, π = dynamic_programming(dict_state_action, 12)\n",
    "for i ∈ 1:4\n",
    "    println(\"Valeur à l'état \",i,\" : \",V[i, 1:13])\n",
    "    println(\"Action à l'état \",i,\" : \",π[i, 1:12])\n",
    "end\n",
    "println(π)\n",
    "print(V[1,1])"
   ]
  },
  {
   "cell_type": "markdown",
   "metadata": {},
   "source": [
    "La valeur sous la politique $\\pi$ (explicité si dessus) est de <u>110.82</u>. "
   ]
  },
  {
   "cell_type": "code",
   "execution_count": 7,
   "metadata": {},
   "outputs": [],
   "source": []
  }
 ],
 "metadata": {
  "kernelspec": {
   "display_name": "Julia 1.8.5",
   "language": "julia",
   "name": "julia-1.8"
  },
  "language_info": {
   "file_extension": ".jl",
   "mimetype": "application/julia",
   "name": "julia",
   "version": "1.8.5"
  }
 },
 "nbformat": 4,
 "nbformat_minor": 2
}
