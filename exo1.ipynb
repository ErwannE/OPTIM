{
 "cells": [
  {
   "cell_type": "markdown",
   "metadata": {},
   "source": [
    "### Simulation du problème\n",
    "STATES : 1 new, 2 good shape, 3 old, 4 brocken \\\n",
    "ACTIONS : 1 do nothing, 2 maintain, 3 repair, 4 replace"
   ]
  },
  {
   "cell_type": "code",
   "execution_count": 27,
   "metadata": {},
   "outputs": [
    {
     "name": "stdout",
     "output_type": "stream",
     "text": [
      "(2, -20)\n"
     ]
    }
   ],
   "source": [
    "\n",
    "function simulation(s,a) #Take the action state pair and return the next state and the reward \n",
    "    random_number = rand()\n",
    "    if s == 1 #If the state is new\n",
    "        if a == 1 #If the action is do nothing (only action available for new state)\n",
    "            return 1, -30\n",
    "        else\n",
    "            AssertionError(\"The action is not valid for the state\")\n",
    "        end\n",
    "    \n",
    "    elseif s == 2 #If the state is in good shape\n",
    "\n",
    "        if a == 1 #If the action is do nothing\n",
    "            if random_number < 0.3\n",
    "                return 1, -20\n",
    "            else\n",
    "                return 2, -20\n",
    "            end\n",
    "\n",
    "        elseif a == 2 #If the action is maintain\n",
    "            if random_number < 0.8\n",
    "                return 1, -10\n",
    "            else\n",
    "                return 2, -10\n",
    "            end\n",
    "\n",
    "        elseif a == 3 #If the action is repair\n",
    "            return 1, -5\n",
    "\n",
    "        elseif a == 4 #If the action is replace\n",
    "            return 0, -50\n",
    "\n",
    "        else\n",
    "            AssertionError(\"The action is not valid for the state\")\n",
    "        end\n",
    "\n",
    "    elseif s == 3 #If the state is old\n",
    "\n",
    "        if a == 1 #If the action is do nothing\n",
    "            if random_number < 0.5\n",
    "                return 2, -10\n",
    "            else\n",
    "                return 3, -10\n",
    "            end\n",
    "        \n",
    "        elseif a == 2 #If the action is maintain\n",
    "            if random_number < 0.9\n",
    "                return 2, 0\n",
    "            else\n",
    "                return 3, 0\n",
    "            end\n",
    "\n",
    "        elseif a == 3 #If the action is repair\n",
    "            return 1, 20\n",
    "\n",
    "        elseif a == 4 #If the action is replace\n",
    "            return 0, 70\n",
    "\n",
    "        else\n",
    "            AssertionError(\"The action is not valid for the state\")\n",
    "        end\n",
    "\n",
    "    elseif s == 4 #If the state is broken\n",
    "\n",
    "        if a == 1 #If the action is do nothing\n",
    "            return 3, 0\n",
    "\n",
    "        elseif a == 3 #If the action is ezpair\n",
    "            return 1, 50\n",
    "\n",
    "        elseif a == 4 #If the action is replace\n",
    "            return 0, 70\n",
    "\n",
    "        else\n",
    "            AssertionError(\"The action is not valid for the state\")\n",
    "        end\n",
    "    \n",
    "    else\n",
    "        AssertionError(\"The state is not valid\")\n",
    "    end\n",
    "end\n",
    "\n",
    "println(simulation(2, 1))"
   ]
  },
  {
   "cell_type": "markdown",
   "metadata": {},
   "source": [
    "### Dictionnaire associé au problème"
   ]
  },
  {
   "cell_type": "code",
   "execution_count": 28,
   "metadata": {},
   "outputs": [
    {
     "data": {
      "text/plain": [
       "Dict{String, Any} with 4 entries:\n",
       "  \"4\" => Dict{String, Any}(\"4\"=>Dict{String, Any}(\"1\"=>Dict{String, Any}(\"c\"=>7…\n",
       "  \"1\" => Dict{String, Any}(\"1\"=>Dict{String, Any}(\"2\"=>Dict{String, Any}(\"c\"=>-…\n",
       "  \"2\" => Dict{String, Any}(\"4\"=>Dict{String, Any}(\"1\"=>Dict{String, Any}(\"c\"=>5…\n",
       "  \"3\" => Dict{String, Any}(\"4\"=>Dict{String, Any}(\"1\"=>Dict{String, Any}(\"c\"=>6…"
      ]
     },
     "metadata": {},
     "output_type": "display_data"
    }
   ],
   "source": [
    "using JSON\n",
    "dict_action_state = JSON.parsefile(\"state_action.json\")"
   ]
  },
  {
   "cell_type": "code",
   "execution_count": 29,
   "metadata": {},
   "outputs": [
    {
     "name": "stdout",
     "output_type": "stream",
     "text": [
      "Dict{String, Any}(\"2\" => Dict{String, Any}(\"c\" => -30, \"p\" => 1))"
     ]
    }
   ],
   "source": [
    "print(dict_action_state[\"1\"][\"1\"])"
   ]
  },
  {
   "cell_type": "markdown",
   "metadata": {},
   "source": [
    "On définit V de la façon suivante :\n",
    "\n",
    "$$\n",
    "V_{t}(x)=E[\\sum_{s=t}^{T} R(X_t,t) |  X_{t}=x]\n",
    "$$\n",
    "\n",
    "On a donc :\n",
    "$$\n",
    "\\forall x \\in States,   V_{T+1}(x)=0\n",
    "$$"
   ]
  },
  {
   "cell_type": "markdown",
   "metadata": {},
   "source": [
    "On cherche à connaitre $ V_{1}(1)$ et sa politique optimale associée."
   ]
  },
  {
   "cell_type": "code",
   "execution_count": 26,
   "metadata": {},
   "outputs": [
    {
     "ename": "ErrorException",
     "evalue": "syntax: incomplete: premature end of input",
     "output_type": "error",
     "traceback": [
      "syntax: incomplete: premature end of input\n",
      "\n",
      "Stacktrace:\n",
      " [1] top-level scope\n",
      "   @ c:\\Users\\erwan\\Documents\\ENPC\\2A\\Optim_convexe\\OPTIM\\exo1.ipynb:1"
     ]
    }
   ],
   "source": [
    "function dynamic_programming(dict_action_state, T)\n",
    "    V = fill(+Inf, (4, T+1))\n",
    "    π = zeros(Int, (4, T))\n",
    "    for x \\in 1:4\n",
    "        V[x, T+1] = 0\n",
    "    end\n",
    "\n",
    "    for t ∈ T:-1:1\n",
    "        for x ∈ 1:4\n",
    "            for a ∈ 0:3\n",
    "                V[x, t] = min(V[x+1, t+1], dict_action_state[string(x)][string(a)][\"cost\"] + V[dict_action_state[string(x)][string(a)][\"next_state\"]+1, t+2])\n",
    "            end\n",
    "        end"
   ]
  },
  {
   "cell_type": "code",
   "execution_count": null,
   "metadata": {},
   "outputs": [],
   "source": []
  }
 ],
 "metadata": {
  "kernelspec": {
   "display_name": "Julia 1.8.5",
   "language": "julia",
   "name": "julia-1.8"
  },
  "language_info": {
   "file_extension": ".jl",
   "mimetype": "application/julia",
   "name": "julia",
   "version": "1.8.5"
  }
 },
 "nbformat": 4,
 "nbformat_minor": 2
}
