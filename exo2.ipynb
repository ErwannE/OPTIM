{
 "cells": [
  {
   "cell_type": "markdown",
   "metadata": {},
   "source": [
    "# Exercice 2"
   ]
  },
  {
   "cell_type": "code",
   "execution_count": 2,
   "metadata": {},
   "outputs": [
    {
     "name": "stderr",
     "output_type": "stream",
     "text": [
      "\u001b[32m\u001b[1m   Resolving\u001b[22m\u001b[39m package versions...\n",
      "\u001b[32m\u001b[1m  No Changes\u001b[22m\u001b[39m to `C:\\Users\\Ponts\\.julia\\environments\\v1.9\\Project.toml`\n",
      "\u001b[32m\u001b[1m  No Changes\u001b[22m\u001b[39m to `C:\\Users\\Ponts\\.julia\\environments\\v1.9\\Manifest.toml`\n"
     ]
    }
   ],
   "source": [
    "using Pkg\n",
    "Pkg.add(\"Distributions\")\n",
    "\n",
    "using Distributions"
   ]
  },
  {
   "cell_type": "code",
   "execution_count": 3,
   "metadata": {},
   "outputs": [
    {
     "data": {
      "text/plain": [
       "action (generic function with 1 method)"
      ]
     },
     "metadata": {},
     "output_type": "display_data"
    }
   ],
   "source": [
    "#Parameters\n",
    "p_t = [0.2 0.2 0.4 0.4 0.7 0.7 0.2 0.2 0.8 0.8 0.5 0.5 0.2 0.2]\n",
    "n = 10\n",
    "function cost(stock)\n",
    "    return 0.1*stock\n",
    "end\n",
    "function iter(stock, order, demand)\n",
    "    if stock + order - demand < 0\n",
    "        return 0\n",
    "    end\n",
    "    return stock + order - demand\n",
    "end\n",
    "function gain(demand, stock, order)\n",
    "    if stock + order - demand < 0\n",
    "        return (stock + order) * 3\n",
    "    end\n",
    "    return 3*demand\n",
    "end\n",
    "function command(order)\n",
    "    return order\n",
    "end\n",
    "function action(stock)\n",
    "    return [stock stock + 1 stock + 2 stock + 3 stock + 4 stock + 5]\n",
    "end"
   ]
  },
  {
   "cell_type": "markdown",
   "metadata": {},
   "source": [
    "## Simulateur ##\n",
    "Il faut considérer le premier jour où il n'y a pas de ventes, mais seulement une commande de la part du magasin; de même qu'il n'y a pas de commandes le dernier jour, mais des ventes. Le coût du stock est ensuite calculé chaque soir (le stock étant celui du matin - les ventes) \\\n",
    "On considère donc chaque journée en commençant par le soir de la veille et se finissant le soir."
   ]
  },
  {
   "cell_type": "code",
   "execution_count": 4,
   "metadata": {},
   "outputs": [
    {
     "data": {
      "text/plain": [
       "simulator (generic function with 1 method)"
      ]
     },
     "metadata": {},
     "output_type": "display_data"
    }
   ],
   "source": [
    "function simulator(policy, stock_ini)\n",
    "    Liste = []\n",
    "    for j in 1:1000\n",
    "        #Simulate the policy\n",
    "        #return the cost associated with the policy with a 95% confidence interval\n",
    "        stock = stock_ini\n",
    "        total_gain = 0\n",
    "        for t in 1:14 #t is the period\n",
    "            order = policy[stock + 1, t]\n",
    "            demand = rand(Binomial(10, p_t[t]))\n",
    "            stock = iter(stock, order, demand)\n",
    "            total_gain += gain(demand, stock, order) - cost(stock) - command(order)\n",
    "        end\n",
    "        total_gain -= cost(stock)\n",
    "        push!(Liste, total_gain)\n",
    "    end\n",
    "    return mean(Liste), [mean(Liste) - 1.96*std(Liste)/sqrt(1000), mean(Liste) + 1.96*std(Liste)/sqrt(1000)]\n",
    "end"
   ]
  },
  {
   "cell_type": "markdown",
   "metadata": {},
   "source": [
    "## The suggested policy"
   ]
  },
  {
   "cell_type": "code",
   "execution_count": 5,
   "metadata": {},
   "outputs": [
    {
     "data": {
      "text/plain": [
       "20×14 Matrix{Int64}:\n",
       " 5  5  5  5  5  5  5  5  5  5  5  5  5  5\n",
       " 5  5  5  5  5  5  5  5  5  5  5  5  5  5\n",
       " 5  5  5  5  5  5  5  5  5  5  5  5  5  5\n",
       " 5  5  5  5  5  5  5  5  5  5  5  5  5  5\n",
       " 5  5  5  5  5  5  5  5  5  5  5  5  5  5\n",
       " 0  0  0  0  0  0  0  0  0  0  0  0  0  0\n",
       " 0  0  0  0  0  0  0  0  0  0  0  0  0  0\n",
       " 0  0  0  0  0  0  0  0  0  0  0  0  0  0\n",
       " 0  0  0  0  0  0  0  0  0  0  0  0  0  0\n",
       " 0  0  0  0  0  0  0  0  0  0  0  0  0  0\n",
       " 0  0  0  0  0  0  0  0  0  0  0  0  0  0\n",
       " 0  0  0  0  0  0  0  0  0  0  0  0  0  0\n",
       " 0  0  0  0  0  0  0  0  0  0  0  0  0  0\n",
       " 0  0  0  0  0  0  0  0  0  0  0  0  0  0\n",
       " 0  0  0  0  0  0  0  0  0  0  0  0  0  0\n",
       " 0  0  0  0  0  0  0  0  0  0  0  0  0  0\n",
       " 0  0  0  0  0  0  0  0  0  0  0  0  0  0\n",
       " 0  0  0  0  0  0  0  0  0  0  0  0  0  0\n",
       " 0  0  0  0  0  0  0  0  0  0  0  0  0  0\n",
       " 0  0  0  0  0  0  0  0  0  0  0  0  0  0"
      ]
     },
     "metadata": {},
     "output_type": "display_data"
    }
   ],
   "source": [
    "policy = zeros(20, 14)\n",
    "for s in 1:5\n",
    "    for t in 1:14\n",
    "        policy[s, t] = 5\n",
    "    end\n",
    "end\n",
    "policy = round.(Int, policy)"
   ]
  },
  {
   "cell_type": "code",
   "execution_count": 6,
   "metadata": {},
   "outputs": [
    {
     "data": {
      "text/plain": [
       "(74.33740000000007, [73.4927057755375, 75.18209422446265])"
      ]
     },
     "metadata": {},
     "output_type": "display_data"
    }
   ],
   "source": [
    "C = simulator(policy, 10)\n",
    "C"
   ]
  },
  {
   "cell_type": "code",
   "execution_count": 7,
   "metadata": {},
   "outputs": [
    {
     "data": {
      "text/plain": [
       "21×14 Matrix{Float64}:\n",
       " 0.0  0.0  0.0  0.0  0.0  0.0  0.0  0.0  0.0  0.0  0.0  0.0  0.0  0.0\n",
       " 0.0  0.0  0.0  0.0  0.0  0.0  0.0  0.0  0.0  0.0  0.0  0.0  0.0  0.0\n",
       " 0.0  0.0  0.0  0.0  0.0  0.0  0.0  0.0  0.0  0.0  0.0  0.0  0.0  0.0\n",
       " 0.0  0.0  0.0  0.0  0.0  0.0  0.0  0.0  0.0  0.0  0.0  0.0  0.0  0.0\n",
       " 0.0  0.0  0.0  0.0  0.0  0.0  0.0  0.0  0.0  0.0  0.0  0.0  0.0  0.0\n",
       " 0.0  0.0  0.0  0.0  0.0  0.0  0.0  0.0  0.0  0.0  0.0  0.0  0.0  0.0\n",
       " 0.0  0.0  0.0  0.0  0.0  0.0  0.0  0.0  0.0  0.0  0.0  0.0  0.0  0.0\n",
       " 0.0  0.0  0.0  0.0  0.0  0.0  0.0  0.0  0.0  0.0  0.0  0.0  0.0  0.0\n",
       " 0.0  0.0  0.0  0.0  0.0  0.0  0.0  0.0  0.0  0.0  0.0  0.0  0.0  0.0\n",
       " 0.0  0.0  0.0  0.0  0.0  0.0  0.0  0.0  0.0  0.0  0.0  0.0  0.0  0.0\n",
       " ⋮                        ⋮                        ⋮              \n",
       " 0.0  0.0  0.0  0.0  0.0  0.0  0.0  0.0  0.0  0.0  0.0  0.0  0.0  0.0\n",
       " 0.0  0.0  0.0  0.0  0.0  0.0  0.0  0.0  0.0  0.0  0.0  0.0  0.0  0.0\n",
       " 0.0  0.0  0.0  0.0  0.0  0.0  0.0  0.0  0.0  0.0  0.0  0.0  0.0  0.0\n",
       " 0.0  0.0  0.0  0.0  0.0  0.0  0.0  0.0  0.0  0.0  0.0  0.0  0.0  0.0\n",
       " 0.0  0.0  0.0  0.0  0.0  0.0  0.0  0.0  0.0  0.0  0.0  0.0  0.0  0.0\n",
       " 0.0  0.0  0.0  0.0  0.0  0.0  0.0  0.0  0.0  0.0  0.0  0.0  0.0  0.0\n",
       " 0.0  0.0  0.0  0.0  0.0  0.0  0.0  0.0  0.0  0.0  0.0  0.0  0.0  0.0\n",
       " 0.0  0.0  0.0  0.0  0.0  0.0  0.0  0.0  0.0  0.0  0.0  0.0  0.0  0.0\n",
       " 0.0  0.0  0.0  0.0  0.0  0.0  0.0  0.0  0.0  0.0  0.0  0.0  0.0  0.0"
      ]
     },
     "metadata": {},
     "output_type": "display_data"
    }
   ],
   "source": [
    "Q = zeros(21, 14, 6)\n",
    "\n",
    "#Construct the value function for each state at each time\n",
    "V = zeros(21,15)\n",
    "for s in 0:20\n",
    "    V[s + 1, 15] = 0.1*s\n",
    "end\n",
    "\n",
    "P = zeros(21, 14, 6, 21)\n",
    "for s in 0:20\n",
    "    for t in 1:14\n",
    "        dist = Binomial(10, p_t[t])\n",
    "        for a in 1:6\n",
    "            for s_prime in 0:20\n",
    "                P[s + 1, t, a, s_prime + 1] = pdf(dist, s - s_prime + a) #Probability to go from s to s_prime with action a at time t\n",
    "            end\n",
    "        end\n",
    "    end\n",
    "end\n",
    "\n",
    "policy_markov = zeros(21, 14)"
   ]
  },
  {
   "cell_type": "code",
   "execution_count": 8,
   "metadata": {},
   "outputs": [
    {
     "data": {
      "text/plain": [
       "21×14 Matrix{Int64}:\n",
       " 5  5  5  5  5  5  5  5  5  5  5  5  3  2\n",
       " 4  5  5  5  5  5  5  5  5  5  5  5  2  1\n",
       " 3  5  5  5  5  5  5  5  5  5  5  5  1  0\n",
       " 2  4  5  5  5  5  4  5  5  5  5  4  0  0\n",
       " 1  3  5  5  5  5  3  5  5  5  4  3  0  0\n",
       " 0  2  5  5  5  4  2  5  5  5  3  2  0  0\n",
       " 0  1  5  5  5  3  1  5  5  5  2  1  0  0\n",
       " 0  0  4  5  5  2  0  4  5  4  1  0  0  0\n",
       " 0  0  3  4  4  1  0  3  5  3  0  0  0  0\n",
       " 0  0  2  3  3  0  0  2  4  2  0  0  0  0\n",
       " ⋮              ⋮              ⋮        \n",
       " 0  0  0  0  0  0  0  0  1  0  0  0  0  0\n",
       " 0  0  0  0  0  0  0  0  0  0  0  0  0  0\n",
       " 0  0  0  0  0  0  0  0  0  0  0  0  0  0\n",
       " 0  0  0  0  0  0  0  0  0  0  0  0  0  0\n",
       " 0  0  0  0  0  0  0  0  0  0  0  0  0  0\n",
       " 0  0  0  0  0  0  0  0  0  0  0  0  0  0\n",
       " 0  0  0  0  0  0  0  0  0  0  0  0  0  0\n",
       " 0  0  0  0  0  0  0  0  0  0  0  0  0  0\n",
       " 0  0  0  0  0  0  0  0  0  0  0  0  0  0"
      ]
     },
     "metadata": {},
     "output_type": "display_data"
    }
   ],
   "source": [
    "for t in 14:-1:1\n",
    "    for s in 0:20\n",
    "        V[s+1,t] = -100000\n",
    "        for a in 0:5\n",
    "            Q[s + 1,t,a + 1] = 0\n",
    "            for s_prime in 0:20\n",
    "                Q[s + 1, t, a + 1] += P[s + 1, t, a + 1, s_prime + 1]*(V[s_prime + 1, t+1] + 3 * (s - s_prime + a) - cost(s_prime) - command(a))\n",
    "            end\n",
    "            if Q[s + 1,t,a + 1] > V[s + 1,t]\n",
    "                V[s + 1,t] = Q[s + 1,t,a + 1]\n",
    "                policy_markov[s + 1,t] = a\n",
    "            end\n",
    "        end\n",
    "    end\n",
    "end\n",
    "policy_markov = round.(Int, policy_markov)"
   ]
  },
  {
   "cell_type": "code",
   "execution_count": 9,
   "metadata": {},
   "outputs": [
    {
     "name": "stdout",
     "output_type": "stream",
     "text": [
      "[5, 5, 5, 5, 5, 5, 5, 5, 5, 5, 5, 5, 3, 2]\n",
      "[4, 5, 5, 5, 5, 5, 5, 5, 5, 5, 5, 5, 2, 1]\n",
      "[3, 5, 5, 5, 5, 5, 5, 5, 5, 5, 5, 5, 1, 0]\n",
      "[2, 4, 5, 5, 5, 5, 4, 5, 5, 5, 5, 4, 0, 0]\n",
      "[1, 3, 5, 5, 5, 5, 3, 5, 5, 5, 4, 3, 0, 0]\n",
      "[0, 2, 5, 5, 5, 4, 2, 5, 5, 5, 3, 2, 0, 0]\n",
      "[0, 1, 5, 5, 5, 3, 1, 5, 5, 5, 2, 1, 0, 0]\n",
      "[0, 0, 4, 5, 5, 2, 0, 4, 5, 4, 1, 0, 0, 0]\n",
      "[0, 0, 3, 4, 4, 1, 0, 3, 5, 3, 0, 0, 0, 0]\n",
      "[0, 0, 2, 3, 3, 0, 0, 2, 4, 2, 0, 0, 0, 0]\n",
      "[0, 0, 1, 2, 2, 0, 0, 1, 3, 1, 0, 0, 0, 0]\n",
      "[0, 0, 0, 1, 1, 0, 0, 0, 2, 0, 0, 0, 0, 0]\n",
      "[0, 0, 0, 0, 0, 0, 0, 0, 1, 0, 0, 0, 0, 0]\n",
      "[0, 0, 0, 0, 0, 0, 0, 0, 0, 0, 0, 0, 0, 0]\n",
      "[0, 0, 0, 0, 0, 0, 0, 0, 0, 0, 0, 0, 0, 0]\n",
      "[0, 0, 0, 0, 0, 0, 0, 0, 0, 0, 0, 0, 0, 0]\n",
      "[0, 0, 0, 0, 0, 0, 0, 0, 0, 0, 0, 0, 0, 0]\n",
      "[0, 0, 0, 0, 0, 0, 0, 0, 0, 0, 0, 0, 0, 0]\n",
      "[0, 0, 0, 0, 0, 0, 0, 0, 0, 0, 0, 0, 0, 0]\n",
      "[0, 0, 0, 0, 0, 0, 0, 0, 0, 0, 0, 0, 0, 0]\n",
      "[0, 0, 0, 0, 0, 0, 0, 0, 0, 0, 0, 0, 0, 0]\n"
     ]
    }
   ],
   "source": [
    "for row in eachrow(policy_markov)\n",
    "    println(row)\n",
    "end"
   ]
  },
  {
   "cell_type": "code",
   "execution_count": 10,
   "metadata": {},
   "outputs": [
    {
     "name": "stdout",
     "output_type": "stream",
     "text": [
      "(100.05539999999995, [99.39960232988281, 100.71119767011709])\n"
     ]
    }
   ],
   "source": [
    "C_markov = simulator(policy_markov, 10)\n",
    "println(C_markov)"
   ]
  },
  {
   "cell_type": "markdown",
   "metadata": {},
   "source": [
    "## Résultats ##\n",
    "On voit tout d'abord que les résultats proposés par la programmation dynamique sont plus efficaces que ceux d'une politique au hasard.  \n",
    "Cela indique déjà qu'il n'y a pas d'erreur grave.  \n",
    "Ensuite, en regardant les résultats proposés, on peut voir que:  \n",
    "-La politique ne commande pas beaucoup au début (puisqu'elle a déjà un bon stock)  \n",
    "-Le magasin se pare aux prévisions optimistes et pessimistes en adaptant ses commandes (et donc le stock souhaité)  \n",
    "-Le magasin ne commande pas beaucoup à la fin, puisque le stock va se perdre  "
   ]
  },
  {
   "cell_type": "markdown",
   "metadata": {},
   "source": [
    "# Question 3 #"
   ]
  },
  {
   "cell_type": "code",
   "execution_count": 17,
   "metadata": {},
   "outputs": [],
   "source": [
    "P_96 = zeros(96)\n",
    "for i in 1:96\n",
    "    P_96[i] = p_t[(i-1) % 14 + 1]\n",
    "end"
   ]
  },
  {
   "cell_type": "code",
   "execution_count": null,
   "metadata": {},
   "outputs": [
    {
     "data": {
      "text/plain": [
       "simulator_96 (generic function with 1 method)"
      ]
     },
     "metadata": {},
     "output_type": "display_data"
    }
   ],
   "source": [
    "function simulator_96(policy, stock_ini)\n",
    "    Liste = []\n",
    "    for j in 1:1000\n",
    "        #Simulate the policy\n",
    "        #return the cost associated with the policy with a 95% confidence interval\n",
    "        stock = stock_ini\n",
    "        total_gain = 0\n",
    "        for t in 1:96 #t is the period\n",
    "            order = policy[stock + 1, t]\n",
    "            demand = rand(Binomial(10, P_96[t]))\n",
    "            stock = iter(stock, order, demand)\n",
    "            total_gain += gain(demand, stock, order) - cost(stock) - command(order)\n",
    "        end\n",
    "        total_gain -= cost(stock)\n",
    "        push!(Liste, total_gain)\n",
    "    end\n",
    "    return mean(Liste), [mean(Liste) - 1.96*std(Liste)/sqrt(1000), mean(Liste) + 1.96*std(Liste)/sqrt(1000)]\n",
    "end"
   ]
  },
  {
   "cell_type": "code",
   "execution_count": 30,
   "metadata": {},
   "outputs": [
    {
     "data": {
      "text/plain": [
       "21×96 Matrix{Float64}:\n",
       " 0.0  0.0  0.0  0.0  0.0  0.0  0.0  0.0  …  0.0  0.0  0.0  0.0  0.0  0.0  0.0\n",
       " 0.0  0.0  0.0  0.0  0.0  0.0  0.0  0.0     0.0  0.0  0.0  0.0  0.0  0.0  0.0\n",
       " 0.0  0.0  0.0  0.0  0.0  0.0  0.0  0.0     0.0  0.0  0.0  0.0  0.0  0.0  0.0\n",
       " 0.0  0.0  0.0  0.0  0.0  0.0  0.0  0.0     0.0  0.0  0.0  0.0  0.0  0.0  0.0\n",
       " 0.0  0.0  0.0  0.0  0.0  0.0  0.0  0.0     0.0  0.0  0.0  0.0  0.0  0.0  0.0\n",
       " 0.0  0.0  0.0  0.0  0.0  0.0  0.0  0.0  …  0.0  0.0  0.0  0.0  0.0  0.0  0.0\n",
       " 0.0  0.0  0.0  0.0  0.0  0.0  0.0  0.0     0.0  0.0  0.0  0.0  0.0  0.0  0.0\n",
       " 0.0  0.0  0.0  0.0  0.0  0.0  0.0  0.0     0.0  0.0  0.0  0.0  0.0  0.0  0.0\n",
       " 0.0  0.0  0.0  0.0  0.0  0.0  0.0  0.0     0.0  0.0  0.0  0.0  0.0  0.0  0.0\n",
       " 0.0  0.0  0.0  0.0  0.0  0.0  0.0  0.0     0.0  0.0  0.0  0.0  0.0  0.0  0.0\n",
       " ⋮                        ⋮              ⋱       ⋮                        ⋮\n",
       " 0.0  0.0  0.0  0.0  0.0  0.0  0.0  0.0     0.0  0.0  0.0  0.0  0.0  0.0  0.0\n",
       " 0.0  0.0  0.0  0.0  0.0  0.0  0.0  0.0     0.0  0.0  0.0  0.0  0.0  0.0  0.0\n",
       " 0.0  0.0  0.0  0.0  0.0  0.0  0.0  0.0     0.0  0.0  0.0  0.0  0.0  0.0  0.0\n",
       " 0.0  0.0  0.0  0.0  0.0  0.0  0.0  0.0  …  0.0  0.0  0.0  0.0  0.0  0.0  0.0\n",
       " 0.0  0.0  0.0  0.0  0.0  0.0  0.0  0.0     0.0  0.0  0.0  0.0  0.0  0.0  0.0\n",
       " 0.0  0.0  0.0  0.0  0.0  0.0  0.0  0.0     0.0  0.0  0.0  0.0  0.0  0.0  0.0\n",
       " 0.0  0.0  0.0  0.0  0.0  0.0  0.0  0.0     0.0  0.0  0.0  0.0  0.0  0.0  0.0\n",
       " 0.0  0.0  0.0  0.0  0.0  0.0  0.0  0.0     0.0  0.0  0.0  0.0  0.0  0.0  0.0\n",
       " 0.0  0.0  0.0  0.0  0.0  0.0  0.0  0.0  …  0.0  0.0  0.0  0.0  0.0  0.0  0.0"
      ]
     },
     "metadata": {},
     "output_type": "display_data"
    }
   ],
   "source": [
    "Q_96 = zeros(21, 96, 6)\n",
    "\n",
    "#Construct the value function for each state at each time\n",
    "V_96 = zeros(21,97)\n",
    "\n",
    "\n",
    "P_96 = zeros(21, 96, 6, 21)\n",
    "for s in 0:20\n",
    "    for t in 1:96\n",
    "        dist = Binomial(10, P_96[t])\n",
    "        for a in 1:6\n",
    "            for s_prime in 0:20\n",
    "                P_96[s + 1, t, a, s_prime + 1] = pdf(dist, s - s_prime + a) #Probability to go from s to s_prime with action a at time t\n",
    "            end\n",
    "        end\n",
    "    end\n",
    "end\n",
    "\n",
    "policy_markov_96 = zeros(21, 96)"
   ]
  },
  {
   "cell_type": "code",
   "execution_count": 32,
   "metadata": {},
   "outputs": [
    {
     "data": {
      "text/plain": [
       "21×96 Matrix{Int64}:\n",
       " 2  2  2  2  2  2  2  2  2  2  2  2  2  …  2  2  2  2  2  2  0  0  0  0  0  0\n",
       " 1  1  1  1  1  1  1  1  1  1  1  1  1     1  1  1  1  1  1  0  0  0  0  0  0\n",
       " 0  0  0  0  0  0  0  0  0  0  0  0  0     0  0  0  0  0  0  0  0  0  0  0  0\n",
       " 5  5  5  5  5  5  5  5  5  5  5  5  5     5  5  5  5  5  5  5  0  0  0  0  0\n",
       " 4  4  4  4  4  4  4  4  4  4  4  4  4     4  4  4  4  4  4  4  4  0  0  0  0\n",
       " 3  3  3  3  3  3  3  3  3  3  3  3  3  …  3  3  3  3  3  3  3  3  0  0  0  0\n",
       " 2  2  2  2  2  2  2  2  2  2  2  2  2     2  2  2  2  2  2  2  2  0  0  0  0\n",
       " 1  1  1  1  1  1  1  1  1  1  1  1  1     1  1  1  1  1  1  1  1  1  0  0  0\n",
       " 0  0  0  0  0  0  0  0  0  0  0  0  0     0  0  0  0  0  0  0  0  0  0  0  0\n",
       " 5  5  5  5  5  5  5  5  5  5  5  5  5     5  5  5  5  5  5  5  5  5  5  0  0\n",
       " ⋮              ⋮              ⋮        ⋱     ⋮              ⋮              ⋮\n",
       " 2  2  2  2  2  2  2  2  2  2  2  2  2     2  2  2  2  2  2  2  2  2  2  2  0\n",
       " 1  1  1  1  1  1  1  1  1  1  1  1  1     1  1  1  1  1  1  1  1  1  1  1  0\n",
       " 0  0  0  0  0  0  0  0  0  0  0  0  0     0  0  0  0  0  0  0  0  0  0  0  0\n",
       " 5  5  5  5  5  5  5  5  5  5  5  5  5  …  5  5  5  5  5  5  5  5  5  5  5  5\n",
       " 4  4  4  4  4  4  4  4  4  4  4  4  4     4  4  4  4  4  4  4  4  4  4  4  4\n",
       " 3  3  3  3  3  3  3  3  3  3  3  3  3     3  3  3  3  3  3  3  3  3  3  3  3\n",
       " 2  2  2  2  2  2  2  2  2  2  2  2  2     2  2  2  2  2  2  2  2  2  2  2  2\n",
       " 1  1  1  1  1  1  1  1  1  1  1  1  1     1  1  1  1  1  1  1  1  1  1  1  1\n",
       " 0  0  0  0  0  0  0  0  0  0  0  0  0  …  0  0  0  0  0  0  0  0  0  0  0  0"
      ]
     },
     "metadata": {},
     "output_type": "display_data"
    }
   ],
   "source": [
    "for t in 96:-1:1\n",
    "    for s in 0:20\n",
    "        V_96[s+1,t] = -100000\n",
    "        for a in 0:5\n",
    "            Q_96[s + 1, t, a + 1] = 0\n",
    "            for s_prime in 0:20\n",
    "                Q_96[s + 1, t, a + 1] += P_96[s + 1, t, a + 1, s_prime + 1]*(V_96[s_prime + 1, t+1] + 3 * (s - s_prime + a) - cost(s_prime) - command(a))\n",
    "            end\n",
    "            if Q_96[s + 1, t, a + 1] > V_96[s + 1, t]\n",
    "                V_96[s + 1, t] = Q_96[s + 1, t, a + 1]\n",
    "                policy_markov_96[s + 1, t] = a\n",
    "            end\n",
    "        end\n",
    "    end\n",
    "end\n",
    "policy_markov_96 = round.(Int, policy_markov_96)"
   ]
  },
  {
   "cell_type": "code",
   "execution_count": 33,
   "metadata": {},
   "outputs": [
    {
     "name": "stdout",
     "output_type": "stream",
     "text": [
      "(63.52209999999994, [62.91207869526676, 64.13212130473312])\n"
     ]
    }
   ],
   "source": [
    "C_markov_96 = simulator(policy_markov_96, 10)\n",
    "println(C_markov_96)"
   ]
  },
  {
   "cell_type": "markdown",
   "metadata": {},
   "source": []
  }
 ],
 "metadata": {
  "kernelspec": {
   "display_name": "Julia 1.9.4",
   "language": "julia",
   "name": "julia-1.9"
  },
  "language_info": {
   "file_extension": ".jl",
   "mimetype": "application/julia",
   "name": "julia",
   "version": "1.9.4"
  }
 },
 "nbformat": 4,
 "nbformat_minor": 2
}
